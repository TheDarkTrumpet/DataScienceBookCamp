{
 "cells": [
  {
   "cell_type": "markdown",
   "metadata": {},
   "source": [
    "# 1.2 - Computing Non-Trivial Probabilities\n",
    "Covers pages 9-14"
   ]
  },
  {
   "cell_type": "code",
   "execution_count": 1,
   "metadata": {},
   "outputs": [],
   "source": [
    "# From 1.1 (helper functions, some parts rewritten and/or removed to )\n",
    "def get_event(event_condition, sample_space):\n",
    "    return set([outcome for outcome in sample_space if event_condition(outcome)])\n",
    "\n",
    "def compute_event_probability(event_condition, generic_sample_space):\n",
    "    event = get_event(event_condition, generic_sample_space)\n",
    "    return len(event) / len(generic_sample_space)"
   ]
  },
  {
   "cell_type": "code",
   "execution_count": 2,
   "metadata": {},
   "outputs": [
    {
     "data": {
      "text/plain": [
       "{('Boy', 'Boy', 'Boy', 'Boy'),\n",
       " ('Boy', 'Boy', 'Boy', 'Girl'),\n",
       " ('Boy', 'Boy', 'Girl', 'Boy'),\n",
       " ('Boy', 'Boy', 'Girl', 'Girl'),\n",
       " ('Boy', 'Girl', 'Boy', 'Boy'),\n",
       " ('Boy', 'Girl', 'Boy', 'Girl'),\n",
       " ('Boy', 'Girl', 'Girl', 'Boy'),\n",
       " ('Boy', 'Girl', 'Girl', 'Girl'),\n",
       " ('Girl', 'Boy', 'Boy', 'Boy'),\n",
       " ('Girl', 'Boy', 'Boy', 'Girl'),\n",
       " ('Girl', 'Boy', 'Girl', 'Boy'),\n",
       " ('Girl', 'Boy', 'Girl', 'Girl'),\n",
       " ('Girl', 'Girl', 'Boy', 'Boy'),\n",
       " ('Girl', 'Girl', 'Boy', 'Girl'),\n",
       " ('Girl', 'Girl', 'Girl', 'Boy'),\n",
       " ('Girl', 'Girl', 'Girl', 'Girl')}"
      ]
     },
     "execution_count": 2,
     "metadata": {},
     "output_type": "execute_result"
    }
   ],
   "source": [
    "possible_children = ['Boy', 'Girl']\n",
    "sample_space = set()\n",
    "for child1 in possible_children:\n",
    "    for child2 in possible_children:\n",
    "        for child3 in possible_children:\n",
    "            for child4 in possible_children:\n",
    "                outcome = (child1, child2, child3, child4)\n",
    "                sample_space.add(outcome)\n",
    "                \n",
    "# Does the same thing\n",
    "from itertools import product\n",
    "all_combinations = product(*(4 * [possible_children]))\n",
    "assert set(all_combinations) == sample_space\n",
    "\n",
    "# Also does the same thing\n",
    "sample_space_efficient = set(product(possible_children, repeat=4))\n",
    "assert sample_space == sample_space_efficient\n",
    "\n",
    "sample_space\n",
    "# list(all_combinations)\n",
    "#list(sample_space_efficient)"
   ]
  },
  {
   "cell_type": "code",
   "execution_count": 3,
   "metadata": {},
   "outputs": [
    {
     "name": "stdout",
     "output_type": "stream",
     "text": [
      "Probabiity of 2 boys is 0.375\n"
     ]
    }
   ],
   "source": [
    "def has_two_boys(outcome):\n",
    "    return len([child for child in outcome if child == 'Boy']) == 2\n",
    "\n",
    "prob = compute_event_probability(has_two_boys, sample_space)\n",
    "print(f\"Probabiity of 2 boys is {prob}\")\n"
   ]
  },
  {
   "cell_type": "code",
   "execution_count": null,
   "metadata": {},
   "outputs": [],
   "source": []
  },
  {
   "cell_type": "code",
   "execution_count": null,
   "metadata": {},
   "outputs": [],
   "source": []
  }
 ],
 "metadata": {
  "kernelspec": {
   "display_name": "Python 3",
   "language": "python",
   "name": "python3"
  },
  "language_info": {
   "codemirror_mode": {
    "name": "ipython",
    "version": 3
   },
   "file_extension": ".py",
   "mimetype": "text/x-python",
   "name": "python",
   "nbconvert_exporter": "python",
   "pygments_lexer": "ipython3",
   "version": "3.8.5"
  }
 },
 "nbformat": 4,
 "nbformat_minor": 4
}
